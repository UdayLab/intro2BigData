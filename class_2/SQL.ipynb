{
 "cells": [
  {
   "cell_type": "markdown",
   "id": "a2e3f267-1786-4721-863c-76e7eb3fdc02",
   "metadata": {},
   "source": [
    "# Task 0: Install the Driver"
   ]
  },
  {
   "cell_type": "code",
   "execution_count": null,
   "id": "888d5bba-63eb-483f-a814-fce6897459f5",
   "metadata": {
    "tags": []
   },
   "outputs": [],
   "source": [
    "!pip install psycopg2-binary"
   ]
  },
  {
   "cell_type": "markdown",
   "id": "d40bcdcd-0c9e-43ab-8184-2f2fcbeb447f",
   "metadata": {},
   "source": [
    "***"
   ]
  },
  {
   "cell_type": "markdown",
   "id": "1e617eb9-372f-48ed-8318-0837f8a7bba7",
   "metadata": {},
   "source": [
    "# Task 2: Inserting the data into the table"
   ]
  },
  {
   "cell_type": "markdown",
   "id": "42d92479-03c6-4654-b561-78dddd44a6de",
   "metadata": {
    "tags": []
   },
   "source": [
    "## Step 1: Reading the file into a CSV"
   ]
  },
  {
   "cell_type": "code",
   "execution_count": null,
   "id": "0d30998f-1954-4bf6-b20b-98d64f6a034c",
   "metadata": {
    "tags": []
   },
   "outputs": [],
   "source": [
    "import csv\n",
    "\n",
    "csv_file = open('station_Info.csv', encoding=\"utf-8\", errors=\"\", newline=\"\")\n",
    "\n",
    "fileObject = csv.reader(csv_file, delimiter=\",\")"
   ]
  },
  {
   "cell_type": "markdown",
   "id": "abcb7da1-95a3-49ae-9b17-b462e285d0eb",
   "metadata": {},
   "source": [
    "## Step 2: Inserting the data into the table"
   ]
  },
  {
   "cell_type": "code",
   "execution_count": null,
   "id": "cb9a3c1a-d470-4373-bb26-b2d56d74367a",
   "metadata": {
    "tags": []
   },
   "outputs": [],
   "source": [
    "import psycopg2  #import the library\n",
    "\n",
    "conn = psycopg2.connect(host=\"localhost\", database=\"station_info\", user=\"test\", password=\"test@14916\") #establish the connection\n",
    "\n",
    "cur = conn.cursor()  #create cursor\n",
    "for row in fileObject:\n",
    "        query = \"insert into station_info values(\" + row[1] + ',\\'' + row[2] + '\\',\\'' + row[3] + \"\\')\" \n",
    "        #print(query)\n",
    "        cur.execute(query)  #execute the query\n",
    "        \n",
    "conn.commit()  #commit\n",
    "cur.close()  #close connection"
   ]
  },
  {
   "cell_type": "markdown",
   "id": "e4d64df3-d31d-43c8-a818-49fb7e0a9759",
   "metadata": {
    "jp-MarkdownHeadingCollapsed": true,
    "tags": []
   },
   "source": [
    "***"
   ]
  },
  {
   "cell_type": "markdown",
   "id": "c1bd45bd-8539-49fa-a800-4a1848f24090",
   "metadata": {},
   "source": [
    "# Task 3: Reading the data from the table and showing the locations on map"
   ]
  },
  {
   "cell_type": "markdown",
   "id": "001bf2fe-6464-46ad-a02a-d97f599aa2b0",
   "metadata": {},
   "source": [
    "## Step 1: Reading the data from the table"
   ]
  },
  {
   "cell_type": "code",
   "execution_count": null,
   "id": "06817e30-02a5-4e1f-a1a8-424fe0b48b3f",
   "metadata": {
    "tags": []
   },
   "outputs": [],
   "source": [
    "import psycopg2  #import the library\n",
    "\n",
    "conn = psycopg2.connect(host=\"localhost\", database=\"station_info\", user=\"test\", password=\"test@14916\") #establish the connection\n",
    "\n",
    "cur = conn.cursor()  #create cursor\n",
    "\n",
    "cur.execute(\"SELECT sname,ST_X(location::geometry),ST_Y(location::geometry) from station_info;\") \n",
    "\n",
    "rows= cur.fetchall()"
   ]
  },
  {
   "cell_type": "markdown",
   "id": "4dd4ce23-0857-4321-845e-4e2b12e5f90c",
   "metadata": {},
   "source": [
    "## Step 2: Showing the locations on map"
   ]
  },
  {
   "cell_type": "code",
   "execution_count": null,
   "id": "c513a4ab-6ac2-44b5-a5ac-5a6dbaa261ee",
   "metadata": {
    "tags": []
   },
   "outputs": [],
   "source": [
    "names,lons,lats =zip(*rows)\n",
    "\n",
    "data= { \n",
    "    \"Latitude\":lats,\n",
    "    \"Longitude\":lons,\n",
    "    \"Sname\":names, \n",
    "}"
   ]
  },
  {
   "cell_type": "code",
   "execution_count": null,
   "id": "b366b7e9-5318-4c60-ae2f-7caf1fd087d8",
   "metadata": {
    "tags": []
   },
   "outputs": [],
   "source": [
    "#Using open-street map using plotly express\n",
    "import plotly.expressas px\n",
    "\n",
    "fig= px.scatter_mapbox( \n",
    "    data, \n",
    "    lat=\"Latitude\", \n",
    "    lon=\"Longitude\", \n",
    "    hover_name=\"Sname\", \n",
    "    zoom=1, \n",
    "    text=\"Sname\", \n",
    "    title=\"ScatterPlotonOpenStreetMap\", \n",
    "    height=600, \n",
    "    width=800 \n",
    ")\n",
    "\n",
    "fig.update_layout( \n",
    "    mapbox_style=\"open-street-map\", \n",
    "    mapbox_center={\"lat\":35.682839,\"lon\": 139.759455}, #Centered on Japan \n",
    ")\n",
    "fig.show()"
   ]
  }
 ],
 "metadata": {
  "kernelspec": {
   "display_name": "Python 3 (ipykernel)",
   "language": "python",
   "name": "python3"
  },
  "language_info": {
   "codemirror_mode": {
    "name": "ipython",
    "version": 3
   },
   "file_extension": ".py",
   "mimetype": "text/x-python",
   "name": "python",
   "nbconvert_exporter": "python",
   "pygments_lexer": "ipython3",
   "version": "3.11.5"
  }
 },
 "nbformat": 4,
 "nbformat_minor": 5
}
