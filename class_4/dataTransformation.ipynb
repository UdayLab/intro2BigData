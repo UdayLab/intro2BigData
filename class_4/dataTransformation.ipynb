{
  "cells": [
    {
      "cell_type": "markdown",
      "metadata": {
        "id": "view-in-github",
        "colab_type": "text"
      },
      "source": [
        "<a href=\"https://colab.research.google.com/github/UdayLab/intro2BigData/blob/main/class_4/dataTransformation.ipynb\" target=\"_parent\"><img src=\"https://colab.research.google.com/assets/colab-badge.svg\" alt=\"Open In Colab\"/></a>"
      ]
    },
    {
      "cell_type": "markdown",
      "source": [
        "# Converting raw customer purchase data into a transactional database"
      ],
      "metadata": {
        "id": "QLUWljMTTWl2"
      }
    },
    {
      "cell_type": "markdown",
      "source": [
        "## Step 1: Download the raw customer purchase data"
      ],
      "metadata": {
        "id": "DcEujl_XTrsz"
      }
    },
    {
      "cell_type": "code",
      "execution_count": 1,
      "metadata": {
        "collapsed": true,
        "colab": {
          "base_uri": "https://localhost:8080/"
        },
        "id": "AoSNbFINTULb",
        "outputId": "172cf8df-6b35-46cb-ea26-8fd516fd859a"
      },
      "outputs": [
        {
          "output_type": "stream",
          "name": "stdout",
          "text": [
            "--2023-12-28 03:27:47--  https://raw.githubusercontent.com/UdayLab/intro2BigData/main/class_4/rawOnlineRetailData.csv\n",
            "Resolving raw.githubusercontent.com (raw.githubusercontent.com)... 185.199.111.133, 185.199.109.133, 185.199.108.133, ...\n",
            "Connecting to raw.githubusercontent.com (raw.githubusercontent.com)|185.199.111.133|:443... connected.\n",
            "HTTP request sent, awaiting response... 200 OK\n",
            "Length: 45038775 (43M) [text/plain]\n",
            "Saving to: ‘rawOnlineRetailData.csv’\n",
            "\n",
            "rawOnlineRetailData 100%[===================>]  42.95M   173MB/s    in 0.2s    \n",
            "\n",
            "Last-modified header missing -- time-stamps turned off.\n",
            "2023-12-28 03:27:48 (173 MB/s) - ‘rawOnlineRetailData.csv’ saved [45038775/45038775]\n",
            "\n"
          ]
        }
      ],
      "source": [
        "!wget -N https://raw.githubusercontent.com/UdayLab/intro2BigData/main/class_4/rawOnlineRetailData.csv"
      ]
    },
    {
      "cell_type": "markdown",
      "source": [
        "__Format to download a file from Github repository is__\n",
        "\n",
        "https://raw.githubusercontent.com/user/repository/branch/filename"
      ],
      "metadata": {
        "id": "JiBJhcZUUw-y"
      }
    },
    {
      "cell_type": "markdown",
      "source": [
        "# Step 2: Print the sample raw data"
      ],
      "metadata": {
        "id": "uxfNBVJHT-79"
      }
    },
    {
      "cell_type": "code",
      "source": [
        "!head rawOnlineRetailData.csv"
      ],
      "metadata": {
        "colab": {
          "base_uri": "https://localhost:8080/"
        },
        "id": "C9CMpLQNUFnb",
        "outputId": "4ae090fb-78e9-4cd4-f859-4f6cf07d9017"
      },
      "execution_count": 2,
      "outputs": [
        {
          "output_type": "stream",
          "name": "stdout",
          "text": [
            "tid,StockCode,item,Quantity,InvoiceDate,value,CustomerID,Country\n",
            "536365,85123A,WHITE HANGING HEART T-LIGHT HOLDER,6,12/1/2010 8:26,2.55,17850,United Kingdom\n",
            "536365,71053,WHITE METAL LANTERN,6,12/1/2010 8:26,3.39,17850,United Kingdom\n",
            "536365,84406B,CREAM CUPID HEARTS COAT HANGER,8,12/1/2010 8:26,2.75,17850,United Kingdom\n",
            "536365,84029G,KNITTED UNION FLAG HOT WATER BOTTLE,6,12/1/2010 8:26,3.39,17850,United Kingdom\n",
            "536365,84029E,RED WOOLLY HOTTIE WHITE HEART.,6,12/1/2010 8:26,3.39,17850,United Kingdom\n",
            "536365,22752,SET 7 BABUSHKA NESTING BOXES,2,12/1/2010 8:26,7.65,17850,United Kingdom\n",
            "536365,21730,GLASS STAR FROSTED T-LIGHT HOLDER,6,12/1/2010 8:26,4.25,17850,United Kingdom\n",
            "536366,22633,HAND WARMER UNION JACK,6,12/1/2010 8:28,1.85,17850,United Kingdom\n",
            "536366,22632,HAND WARMER RED POLKA DOT,6,12/1/2010 8:28,1.85,17850,United Kingdom\n"
          ]
        }
      ]
    },
    {
      "cell_type": "markdown",
      "source": [
        "# Step 3: Generating Transactional Database from the raw data"
      ],
      "metadata": {
        "id": "s1LwVNmkVKWk"
      }
    },
    {
      "cell_type": "code",
      "source": [
        "def createTransactionalDatabase(rawInputFile, transformedOutputFile):\n",
        "    fileData = {}\n",
        "    fl = \"\"\n",
        "    with open(rawInputFile, \"r\") as f:\n",
        "        fl = f.readline()\n",
        "        for line in f:\n",
        "            line = line.strip().split(\",\")\n",
        "            tid = line[0]\n",
        "            info = line[2]\n",
        "            if info == \"\":\n",
        "                continue\n",
        "            if tid not in fileData:\n",
        "                fileData[tid] = [info]\n",
        "            else:\n",
        "                fileData[tid].append(info)\n",
        "\n",
        "    key = list(fileData.keys())\n",
        "    val = list(fileData.values())\n",
        "\n",
        "    zipped = sorted(zip(key, val), key=lambda x: x[0])\n",
        "\n",
        "    with open(transformedOutputFile, \"w\") as f:\n",
        "        for k,v in zipped:\n",
        "            for i in v:\n",
        "                f.write(i + \"\\t\")\n",
        "            f.write(\"\\n\")"
      ],
      "metadata": {
        "id": "jgXr6owwUIwi"
      },
      "execution_count": 3,
      "outputs": []
    },
    {
      "cell_type": "code",
      "source": [
        "createTransactionalDatabase(rawInputFile='rawOnlineRetailData.csv', transformedOutputFile='transactionalDatabase.csv')"
      ],
      "metadata": {
        "id": "NuDg5HxQV5ya"
      },
      "execution_count": 5,
      "outputs": []
    },
    {
      "cell_type": "markdown",
      "source": [
        "# Step 4: Print the created transactional database"
      ],
      "metadata": {
        "id": "Ho21ZrBcWIp-"
      }
    },
    {
      "cell_type": "code",
      "source": [
        "!head transactionalDatabase.csv"
      ],
      "metadata": {
        "colab": {
          "base_uri": "https://localhost:8080/"
        },
        "id": "Lvca2RTHWOQi",
        "outputId": "5c9bb1cc-eca3-4813-d94a-27643fce9933"
      },
      "execution_count": null,
      "outputs": [
        {
          "output_type": "stream",
          "name": "stdout",
          "text": [
            "WHITE HANGING HEART T-LIGHT HOLDER\tWHITE METAL LANTERN\tCREAM CUPID HEARTS COAT HANGER\tKNITTED UNION FLAG HOT WATER BOTTLE\tRED WOOLLY HOTTIE WHITE HEART.\tSET 7 BABUSHKA NESTING BOXES\tGLASS STAR FROSTED T-LIGHT HOLDER\t\n",
            "HAND WARMER UNION JACK\tHAND WARMER RED POLKA DOT\t\n",
            "ASSORTED COLOUR BIRD ORNAMENT\tPOPPY'S PLAYHOUSE BEDROOM \tPOPPY'S PLAYHOUSE KITCHEN\tFELTCRAFT PRINCESS CHARLOTTE DOLL\tIVORY KNITTED MUG COSY \tBOX OF 6 ASSORTED COLOUR TEASPOONS\tBOX OF VINTAGE JIGSAW BLOCKS \tBOX OF VINTAGE ALPHABET BLOCKS\tHOME BUILDING BLOCK WORD\tLOVE BUILDING BLOCK WORD\tRECIPE BOX WITH METAL HEART\tDOORMAT NEW ENGLAND\t\n",
            "JAM MAKING SET WITH JARS\tRED COAT RACK PARIS FASHION\tYELLOW COAT RACK PARIS FASHION\tBLUE COAT RACK PARIS FASHION\t\n",
            "BATH BUILDING BLOCK WORD\t\n",
            "ALARM CLOCK BAKELIKE PINK\tALARM CLOCK BAKELIKE RED \tALARM CLOCK BAKELIKE GREEN\tPANDA AND BUNNIES STICKER SHEET\tSTARS GIFT TAPE \tINFLATABLE POLITICAL GLOBE \tVINTAGE HEADS AND TAILS CARD GAME \tSET/2 RED RETROSPOT TEA TOWELS \tROUND SNACK BOXES SET OF4 WOODLAND \tSPACEBOY LUNCH BOX \tLUNCH BOX I LOVE LONDON\tCIRCUS PARADE LUNCH BOX \tCHARLOTTE BAG DOLLY GIRL DESIGN\tRED TOADSTOOL LED NIGHT LIGHT\t SET 2 TEA TOWELS I LOVE LONDON \tVINTAGE SEASIDE JIGSAW PUZZLES\tMINI JIGSAW CIRCUS PARADE \tMINI JIGSAW SPACEBOY\tMINI PAINT SET VINTAGE \tPOSTAGE\t\n",
            "PAPER CHAIN KIT 50'S CHRISTMAS \t\n",
            "HAND WARMER RED POLKA DOT\tHAND WARMER UNION JACK\t\n",
            "WHITE HANGING HEART T-LIGHT HOLDER\tWHITE METAL LANTERN\tCREAM CUPID HEARTS COAT HANGER\tEDWARDIAN PARASOL RED\tRETRO COFFEE MUGS ASSORTED\tSAVE THE PLANET MUG\tVINTAGE BILLBOARD DRINK ME MUG\tVINTAGE BILLBOARD LOVE/HATE MUG\tWOOD 2 DRAWER CABINET WHITE FINISH\tWOOD S/3 CABINET ANT WHITE FINISH\tWOODEN PICTURE FRAME WHITE FINISH\tWOODEN FRAME ANTIQUE WHITE \tKNITTED UNION FLAG HOT WATER BOTTLE\tRED WOOLLY HOTTIE WHITE HEART.\tSET 7 BABUSHKA NESTING BOXES\tGLASS STAR FROSTED T-LIGHT HOLDER\t\n",
            "VICTORIAN SEWING BOX LARGE\t\n"
          ]
        }
      ]
    },
    {
      "cell_type": "markdown",
      "source": [
        "---"
      ],
      "metadata": {
        "id": "GDRmTsZhWY6n"
      }
    },
    {
      "cell_type": "markdown",
      "source": [
        "# Step 5: Frequent Pattern Mining\n",
        "\n",
        "Please check the notebook: https://colab.research.google.com/github/UdayLab/intro2BigData/blob/main/class_6/frequentPatternMining.ipynb"
      ],
      "metadata": {
        "id": "AmKooW-BWpi3"
      }
    }
  ],
  "metadata": {
    "kernelspec": {
      "display_name": "Python 3",
      "language": "python",
      "name": "python3"
    },
    "language_info": {
      "codemirror_mode": {
        "name": "ipython",
        "version": 2
      },
      "file_extension": ".py",
      "mimetype": "text/x-python",
      "name": "python",
      "nbconvert_exporter": "python",
      "pygments_lexer": "ipython2",
      "version": "2.7.6"
    },
    "colab": {
      "provenance": [],
      "include_colab_link": true
    }
  },
  "nbformat": 4,
  "nbformat_minor": 0
}