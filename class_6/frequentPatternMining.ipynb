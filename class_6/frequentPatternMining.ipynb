{
  "nbformat": 4,
  "nbformat_minor": 0,
  "metadata": {
    "colab": {
      "provenance": [],
      "include_colab_link": true
    },
    "kernelspec": {
      "name": "python3",
      "display_name": "Python 3"
    },
    "language_info": {
      "name": "python"
    }
  },
  "cells": [
    {
      "cell_type": "markdown",
      "metadata": {
        "id": "view-in-github",
        "colab_type": "text"
      },
      "source": [
        "<a href=\"https://colab.research.google.com/github/UdayLab/intro2BigData/blob/main/class_6/frequentPatternMining.ipynb\" target=\"_parent\"><img src=\"https://colab.research.google.com/assets/colab-badge.svg\" alt=\"Open In Colab\"/></a>"
      ]
    },
    {
      "cell_type": "markdown",
      "source": [
        "# Discovering Frequent Patterns from the Customers Purchase Data\n",
        "\n",
        "This notebook provide the demo of extracting useful and interesting customer purchase patterns in the data"
      ],
      "metadata": {
        "id": "WBQE09G9Yiek"
      }
    },
    {
      "cell_type": "markdown",
      "source": [
        "# Step 0: Download the transactional database\n",
        "\n",
        "The processed used to create the transactional database from the raw customer purchase data is shown in https://colab.research.google.com/github/UdayLab/intro2BigData/blob/main/class_4/dataTransformation.ipynb"
      ],
      "metadata": {
        "id": "NH1_-OJuW3oI"
      }
    },
    {
      "cell_type": "code",
      "source": [
        "!wget -nc https://raw.githubusercontent.com/UdayLab/intro2BigData/main/class_6/transactionalDatabase.csv"
      ],
      "metadata": {
        "colab": {
          "base_uri": "https://localhost:8080/"
        },
        "id": "S7eqwMjGW92I",
        "outputId": "30ffc00e-14f5-4078-8fb1-add021f1f507"
      },
      "execution_count": null,
      "outputs": [
        {
          "output_type": "stream",
          "name": "stdout",
          "text": [
            "--2023-12-27 13:00:36--  https://raw.githubusercontent.com/UdayLab/intro2BigData/main/class_6/transactionalDatabase.csv\n",
            "Resolving raw.githubusercontent.com (raw.githubusercontent.com)... 185.199.108.133, 185.199.109.133, 185.199.110.133, ...\n",
            "Connecting to raw.githubusercontent.com (raw.githubusercontent.com)|185.199.108.133|:443... connected.\n",
            "HTTP request sent, awaiting response... 200 OK\n",
            "Length: 14915216 (14M) [text/plain]\n",
            "Saving to: ‘transactionalDatabase.csv’\n",
            "\n",
            "transactionalDataba 100%[===================>]  14.22M  --.-KB/s    in 0.06s   \n",
            "\n",
            "2023-12-27 13:00:37 (246 MB/s) - ‘transactionalDatabase.csv’ saved [14915216/14915216]\n",
            "\n"
          ]
        }
      ]
    },
    {
      "cell_type": "code",
      "source": [
        "!head transactionalDatabase.csv"
      ],
      "metadata": {
        "colab": {
          "base_uri": "https://localhost:8080/"
        },
        "id": "BtsE5PMnXO0j",
        "outputId": "3c30cda1-fd96-4d5a-a699-68b97785fda2"
      },
      "execution_count": null,
      "outputs": [
        {
          "output_type": "stream",
          "name": "stdout",
          "text": [
            "WHITE HANGING HEART T-LIGHT HOLDER\tWHITE METAL LANTERN\tCREAM CUPID HEARTS COAT HANGER\tKNITTED UNION FLAG HOT WATER BOTTLE\tRED WOOLLY HOTTIE WHITE HEART.\tSET 7 BABUSHKA NESTING BOXES\tGLASS STAR FROSTED T-LIGHT HOLDER\t\n",
            "HAND WARMER UNION JACK\tHAND WARMER RED POLKA DOT\t\n",
            "ASSORTED COLOUR BIRD ORNAMENT\tPOPPY'S PLAYHOUSE BEDROOM \tPOPPY'S PLAYHOUSE KITCHEN\tFELTCRAFT PRINCESS CHARLOTTE DOLL\tIVORY KNITTED MUG COSY \tBOX OF 6 ASSORTED COLOUR TEASPOONS\tBOX OF VINTAGE JIGSAW BLOCKS \tBOX OF VINTAGE ALPHABET BLOCKS\tHOME BUILDING BLOCK WORD\tLOVE BUILDING BLOCK WORD\tRECIPE BOX WITH METAL HEART\tDOORMAT NEW ENGLAND\t\n",
            "JAM MAKING SET WITH JARS\tRED COAT RACK PARIS FASHION\tYELLOW COAT RACK PARIS FASHION\tBLUE COAT RACK PARIS FASHION\t\n",
            "BATH BUILDING BLOCK WORD\t\n",
            "ALARM CLOCK BAKELIKE PINK\tALARM CLOCK BAKELIKE RED \tALARM CLOCK BAKELIKE GREEN\tPANDA AND BUNNIES STICKER SHEET\tSTARS GIFT TAPE \tINFLATABLE POLITICAL GLOBE \tVINTAGE HEADS AND TAILS CARD GAME \tSET/2 RED RETROSPOT TEA TOWELS \tROUND SNACK BOXES SET OF4 WOODLAND \tSPACEBOY LUNCH BOX \tLUNCH BOX I LOVE LONDON\tCIRCUS PARADE LUNCH BOX \tCHARLOTTE BAG DOLLY GIRL DESIGN\tRED TOADSTOOL LED NIGHT LIGHT\t SET 2 TEA TOWELS I LOVE LONDON \tVINTAGE SEASIDE JIGSAW PUZZLES\tMINI JIGSAW CIRCUS PARADE \tMINI JIGSAW SPACEBOY\tMINI PAINT SET VINTAGE \tPOSTAGE\t\n",
            "PAPER CHAIN KIT 50'S CHRISTMAS \t\n",
            "HAND WARMER RED POLKA DOT\tHAND WARMER UNION JACK\t\n",
            "WHITE HANGING HEART T-LIGHT HOLDER\tWHITE METAL LANTERN\tCREAM CUPID HEARTS COAT HANGER\tEDWARDIAN PARASOL RED\tRETRO COFFEE MUGS ASSORTED\tSAVE THE PLANET MUG\tVINTAGE BILLBOARD DRINK ME MUG\tVINTAGE BILLBOARD LOVE/HATE MUG\tWOOD 2 DRAWER CABINET WHITE FINISH\tWOOD S/3 CABINET ANT WHITE FINISH\tWOODEN PICTURE FRAME WHITE FINISH\tWOODEN FRAME ANTIQUE WHITE \tKNITTED UNION FLAG HOT WATER BOTTLE\tRED WOOLLY HOTTIE WHITE HEART.\tSET 7 BABUSHKA NESTING BOXES\tGLASS STAR FROSTED T-LIGHT HOLDER\t\n",
            "VICTORIAN SEWING BOX LARGE\t\n"
          ]
        }
      ]
    },
    {
      "cell_type": "markdown",
      "source": [
        "# Step 1: Check the format of the database.\n",
        "\n",
        "An item contains words with white spaces. Items in a transaction are seperated with tab space"
      ],
      "metadata": {
        "id": "GKohCgc5P-_e"
      }
    },
    {
      "cell_type": "code",
      "source": [
        "!head transactionalDatabase.csv"
      ],
      "metadata": {
        "colab": {
          "base_uri": "https://localhost:8080/"
        },
        "id": "hXby6yJHGz9x",
        "outputId": "ab8a1501-7a61-465f-a800-185a2ffd3949"
      },
      "execution_count": null,
      "outputs": [
        {
          "output_type": "stream",
          "name": "stdout",
          "text": [
            "WHITE HANGING HEART T-LIGHT HOLDER\tWHITE METAL LANTERN\tCREAM CUPID HEARTS COAT HANGER\tKNITTED UNION FLAG HOT WATER BOTTLE\tRED WOOLLY HOTTIE WHITE HEART.\tSET 7 BABUSHKA NESTING BOXES\tGLASS STAR FROSTED T-LIGHT HOLDER\t\n",
            "HAND WARMER UNION JACK\tHAND WARMER RED POLKA DOT\t\n",
            "ASSORTED COLOUR BIRD ORNAMENT\tPOPPY'S PLAYHOUSE BEDROOM \tPOPPY'S PLAYHOUSE KITCHEN\tFELTCRAFT PRINCESS CHARLOTTE DOLL\tIVORY KNITTED MUG COSY \tBOX OF 6 ASSORTED COLOUR TEASPOONS\tBOX OF VINTAGE JIGSAW BLOCKS \tBOX OF VINTAGE ALPHABET BLOCKS\tHOME BUILDING BLOCK WORD\tLOVE BUILDING BLOCK WORD\tRECIPE BOX WITH METAL HEART\tDOORMAT NEW ENGLAND\t\n",
            "JAM MAKING SET WITH JARS\tRED COAT RACK PARIS FASHION\tYELLOW COAT RACK PARIS FASHION\tBLUE COAT RACK PARIS FASHION\t\n",
            "BATH BUILDING BLOCK WORD\t\n",
            "ALARM CLOCK BAKELIKE PINK\tALARM CLOCK BAKELIKE RED \tALARM CLOCK BAKELIKE GREEN\tPANDA AND BUNNIES STICKER SHEET\tSTARS GIFT TAPE \tINFLATABLE POLITICAL GLOBE \tVINTAGE HEADS AND TAILS CARD GAME \tSET/2 RED RETROSPOT TEA TOWELS \tROUND SNACK BOXES SET OF4 WOODLAND \tSPACEBOY LUNCH BOX \tLUNCH BOX I LOVE LONDON\tCIRCUS PARADE LUNCH BOX \tCHARLOTTE BAG DOLLY GIRL DESIGN\tRED TOADSTOOL LED NIGHT LIGHT\t SET 2 TEA TOWELS I LOVE LONDON \tVINTAGE SEASIDE JIGSAW PUZZLES\tMINI JIGSAW CIRCUS PARADE \tMINI JIGSAW SPACEBOY\tMINI PAINT SET VINTAGE \tPOSTAGE\t\n",
            "PAPER CHAIN KIT 50'S CHRISTMAS \t\n",
            "HAND WARMER RED POLKA DOT\tHAND WARMER UNION JACK\t\n",
            "WHITE HANGING HEART T-LIGHT HOLDER\tWHITE METAL LANTERN\tCREAM CUPID HEARTS COAT HANGER\tEDWARDIAN PARASOL RED\tRETRO COFFEE MUGS ASSORTED\tSAVE THE PLANET MUG\tVINTAGE BILLBOARD DRINK ME MUG\tVINTAGE BILLBOARD LOVE/HATE MUG\tWOOD 2 DRAWER CABINET WHITE FINISH\tWOOD S/3 CABINET ANT WHITE FINISH\tWOODEN PICTURE FRAME WHITE FINISH\tWOODEN FRAME ANTIQUE WHITE \tKNITTED UNION FLAG HOT WATER BOTTLE\tRED WOOLLY HOTTIE WHITE HEART.\tSET 7 BABUSHKA NESTING BOXES\tGLASS STAR FROSTED T-LIGHT HOLDER\t\n",
            "VICTORIAN SEWING BOX LARGE\t\n"
          ]
        }
      ]
    },
    {
      "cell_type": "markdown",
      "source": [
        "# Step 2: Check the total number of transactions in the database"
      ],
      "metadata": {
        "id": "WOQz76jNQZJn"
      }
    },
    {
      "cell_type": "code",
      "source": [
        "!wc -l transactionalDatabase.csv"
      ],
      "metadata": {
        "colab": {
          "base_uri": "https://localhost:8080/"
        },
        "id": "C0wuEbCVNGw1",
        "outputId": "4884bcc5-4d7d-42a3-c5a1-6db53a18fa2b"
      },
      "execution_count": null,
      "outputs": [
        {
          "output_type": "stream",
          "name": "stdout",
          "text": [
            "24446 transactionalDatabase.csv\n"
          ]
        }
      ]
    },
    {
      "cell_type": "markdown",
      "source": [
        "# Step 3: Install the PAMI library"
      ],
      "metadata": {
        "id": "p_fQSF9xQdXD"
      }
    },
    {
      "cell_type": "code",
      "execution_count": null,
      "metadata": {
        "colab": {
          "base_uri": "https://localhost:8080/"
        },
        "id": "iNMScn2a4poS",
        "outputId": "d2343fca-56a6-41d8-9caf-d20898cbc62e"
      },
      "outputs": [
        {
          "output_type": "stream",
          "name": "stdout",
          "text": [
            "Collecting pami\n",
            "  Downloading pami-2023.11.24.1-py3-none-any.whl (884 kB)\n",
            "\u001b[2K     \u001b[90m━━━━━━━━━━━━━━━━━━━━━━━━━━━━━━━━━━━━━━━━\u001b[0m \u001b[32m884.7/884.7 kB\u001b[0m \u001b[31m11.3 MB/s\u001b[0m eta \u001b[36m0:00:00\u001b[0m\n",
            "\u001b[?25hRequirement already satisfied: psutil in /usr/local/lib/python3.10/dist-packages (from pami) (5.9.5)\n",
            "Requirement already satisfied: pandas in /usr/local/lib/python3.10/dist-packages (from pami) (1.5.3)\n",
            "Requirement already satisfied: plotly in /usr/local/lib/python3.10/dist-packages (from pami) (5.15.0)\n",
            "Requirement already satisfied: matplotlib in /usr/local/lib/python3.10/dist-packages (from pami) (3.7.1)\n",
            "Collecting resource (from pami)\n",
            "  Downloading Resource-0.2.1-py2.py3-none-any.whl (25 kB)\n",
            "Collecting validators (from pami)\n",
            "  Downloading validators-0.22.0-py3-none-any.whl (26 kB)\n",
            "Requirement already satisfied: urllib3 in /usr/local/lib/python3.10/dist-packages (from pami) (2.0.7)\n",
            "Requirement already satisfied: Pillow in /usr/local/lib/python3.10/dist-packages (from pami) (9.4.0)\n",
            "Requirement already satisfied: numpy in /usr/local/lib/python3.10/dist-packages (from pami) (1.23.5)\n",
            "Collecting sphinx-rtd-theme (from pami)\n",
            "  Downloading sphinx_rtd_theme-2.0.0-py2.py3-none-any.whl (2.8 MB)\n",
            "\u001b[2K     \u001b[90m━━━━━━━━━━━━━━━━━━━━━━━━━━━━━━━━━━━━━━━━\u001b[0m \u001b[32m2.8/2.8 MB\u001b[0m \u001b[31m61.8 MB/s\u001b[0m eta \u001b[36m0:00:00\u001b[0m\n",
            "\u001b[?25hRequirement already satisfied: contourpy>=1.0.1 in /usr/local/lib/python3.10/dist-packages (from matplotlib->pami) (1.2.0)\n",
            "Requirement already satisfied: cycler>=0.10 in /usr/local/lib/python3.10/dist-packages (from matplotlib->pami) (0.12.1)\n",
            "Requirement already satisfied: fonttools>=4.22.0 in /usr/local/lib/python3.10/dist-packages (from matplotlib->pami) (4.44.3)\n",
            "Requirement already satisfied: kiwisolver>=1.0.1 in /usr/local/lib/python3.10/dist-packages (from matplotlib->pami) (1.4.5)\n",
            "Requirement already satisfied: packaging>=20.0 in /usr/local/lib/python3.10/dist-packages (from matplotlib->pami) (23.2)\n",
            "Requirement already satisfied: pyparsing>=2.3.1 in /usr/local/lib/python3.10/dist-packages (from matplotlib->pami) (3.1.1)\n",
            "Requirement already satisfied: python-dateutil>=2.7 in /usr/local/lib/python3.10/dist-packages (from matplotlib->pami) (2.8.2)\n",
            "Requirement already satisfied: pytz>=2020.1 in /usr/local/lib/python3.10/dist-packages (from pandas->pami) (2023.3.post1)\n",
            "Requirement already satisfied: tenacity>=6.2.0 in /usr/local/lib/python3.10/dist-packages (from plotly->pami) (8.2.3)\n",
            "Collecting JsonForm>=0.0.2 (from resource->pami)\n",
            "  Downloading JsonForm-0.0.2.tar.gz (2.4 kB)\n",
            "  Preparing metadata (setup.py) ... \u001b[?25l\u001b[?25hdone\n",
            "Collecting JsonSir>=0.0.2 (from resource->pami)\n",
            "  Downloading JsonSir-0.0.2.tar.gz (2.2 kB)\n",
            "  Preparing metadata (setup.py) ... \u001b[?25l\u001b[?25hdone\n",
            "Collecting python-easyconfig>=0.1.0 (from resource->pami)\n",
            "  Downloading Python_EasyConfig-0.1.7-py2.py3-none-any.whl (5.4 kB)\n",
            "Requirement already satisfied: sphinx<8,>=5 in /usr/local/lib/python3.10/dist-packages (from sphinx-rtd-theme->pami) (5.0.2)\n",
            "Requirement already satisfied: docutils<0.21 in /usr/local/lib/python3.10/dist-packages (from sphinx-rtd-theme->pami) (0.18.1)\n",
            "Collecting sphinxcontrib-jquery<5,>=4 (from sphinx-rtd-theme->pami)\n",
            "  Downloading sphinxcontrib_jquery-4.1-py2.py3-none-any.whl (121 kB)\n",
            "\u001b[2K     \u001b[90m━━━━━━━━━━━━━━━━━━━━━━━━━━━━━━━━━━━━━━━━\u001b[0m \u001b[32m121.1/121.1 kB\u001b[0m \u001b[31m10.5 MB/s\u001b[0m eta \u001b[36m0:00:00\u001b[0m\n",
            "\u001b[?25hRequirement already satisfied: jsonschema in /usr/local/lib/python3.10/dist-packages (from JsonForm>=0.0.2->resource->pami) (4.19.2)\n",
            "Requirement already satisfied: six>=1.5 in /usr/local/lib/python3.10/dist-packages (from python-dateutil>=2.7->matplotlib->pami) (1.16.0)\n",
            "Requirement already satisfied: PyYAML in /usr/local/lib/python3.10/dist-packages (from python-easyconfig>=0.1.0->resource->pami) (6.0.1)\n",
            "Requirement already satisfied: sphinxcontrib-applehelp in /usr/local/lib/python3.10/dist-packages (from sphinx<8,>=5->sphinx-rtd-theme->pami) (1.0.7)\n",
            "Requirement already satisfied: sphinxcontrib-devhelp in /usr/local/lib/python3.10/dist-packages (from sphinx<8,>=5->sphinx-rtd-theme->pami) (1.0.5)\n",
            "Requirement already satisfied: sphinxcontrib-jsmath in /usr/local/lib/python3.10/dist-packages (from sphinx<8,>=5->sphinx-rtd-theme->pami) (1.0.1)\n",
            "Requirement already satisfied: sphinxcontrib-htmlhelp>=2.0.0 in /usr/local/lib/python3.10/dist-packages (from sphinx<8,>=5->sphinx-rtd-theme->pami) (2.0.4)\n",
            "Requirement already satisfied: sphinxcontrib-serializinghtml>=1.1.5 in /usr/local/lib/python3.10/dist-packages (from sphinx<8,>=5->sphinx-rtd-theme->pami) (1.1.9)\n",
            "Requirement already satisfied: sphinxcontrib-qthelp in /usr/local/lib/python3.10/dist-packages (from sphinx<8,>=5->sphinx-rtd-theme->pami) (1.0.6)\n",
            "Requirement already satisfied: Jinja2>=2.3 in /usr/local/lib/python3.10/dist-packages (from sphinx<8,>=5->sphinx-rtd-theme->pami) (3.1.2)\n",
            "Requirement already satisfied: Pygments>=2.0 in /usr/local/lib/python3.10/dist-packages (from sphinx<8,>=5->sphinx-rtd-theme->pami) (2.16.1)\n",
            "Requirement already satisfied: snowballstemmer>=1.1 in /usr/local/lib/python3.10/dist-packages (from sphinx<8,>=5->sphinx-rtd-theme->pami) (2.2.0)\n",
            "Requirement already satisfied: babel>=1.3 in /usr/local/lib/python3.10/dist-packages (from sphinx<8,>=5->sphinx-rtd-theme->pami) (2.13.1)\n",
            "Requirement already satisfied: alabaster<0.8,>=0.7 in /usr/local/lib/python3.10/dist-packages (from sphinx<8,>=5->sphinx-rtd-theme->pami) (0.7.13)\n",
            "Requirement already satisfied: imagesize in /usr/local/lib/python3.10/dist-packages (from sphinx<8,>=5->sphinx-rtd-theme->pami) (1.4.1)\n",
            "Requirement already satisfied: requests>=2.5.0 in /usr/local/lib/python3.10/dist-packages (from sphinx<8,>=5->sphinx-rtd-theme->pami) (2.31.0)\n",
            "Requirement already satisfied: MarkupSafe>=2.0 in /usr/local/lib/python3.10/dist-packages (from Jinja2>=2.3->sphinx<8,>=5->sphinx-rtd-theme->pami) (2.1.3)\n",
            "Requirement already satisfied: charset-normalizer<4,>=2 in /usr/local/lib/python3.10/dist-packages (from requests>=2.5.0->sphinx<8,>=5->sphinx-rtd-theme->pami) (3.3.2)\n",
            "Requirement already satisfied: idna<4,>=2.5 in /usr/local/lib/python3.10/dist-packages (from requests>=2.5.0->sphinx<8,>=5->sphinx-rtd-theme->pami) (3.4)\n",
            "Requirement already satisfied: certifi>=2017.4.17 in /usr/local/lib/python3.10/dist-packages (from requests>=2.5.0->sphinx<8,>=5->sphinx-rtd-theme->pami) (2023.7.22)\n",
            "Requirement already satisfied: attrs>=22.2.0 in /usr/local/lib/python3.10/dist-packages (from jsonschema->JsonForm>=0.0.2->resource->pami) (23.1.0)\n",
            "Requirement already satisfied: jsonschema-specifications>=2023.03.6 in /usr/local/lib/python3.10/dist-packages (from jsonschema->JsonForm>=0.0.2->resource->pami) (2023.11.1)\n",
            "Requirement already satisfied: referencing>=0.28.4 in /usr/local/lib/python3.10/dist-packages (from jsonschema->JsonForm>=0.0.2->resource->pami) (0.31.0)\n",
            "Requirement already satisfied: rpds-py>=0.7.1 in /usr/local/lib/python3.10/dist-packages (from jsonschema->JsonForm>=0.0.2->resource->pami) (0.13.0)\n",
            "Building wheels for collected packages: JsonForm, JsonSir\n",
            "  Building wheel for JsonForm (setup.py) ... \u001b[?25l\u001b[?25hdone\n",
            "  Created wheel for JsonForm: filename=JsonForm-0.0.2-py3-none-any.whl size=3313 sha256=84a7e0a7442e1f93f616f4b5c0b80dde4f3dc53ac1b19a47d2dbd11470cb626b\n",
            "  Stored in directory: /root/.cache/pip/wheels/b6/e5/87/11026246d3bd4ad67c0615682d2d6748bbd9a40ac0490882bd\n",
            "  Building wheel for JsonSir (setup.py) ... \u001b[?25l\u001b[?25hdone\n",
            "  Created wheel for JsonSir: filename=JsonSir-0.0.2-py3-none-any.whl size=4753 sha256=231dfa5f898baf81eae8ee58d1c184fee14c2561b9e2ce9cb6bd406e00c643af\n",
            "  Stored in directory: /root/.cache/pip/wheels/1d/4c/d3/4d9757425983b43eb709be1043d82cd03fb863ce5f56f117e6\n",
            "Successfully built JsonForm JsonSir\n",
            "Installing collected packages: JsonSir, validators, python-easyconfig, JsonForm, resource, sphinxcontrib-jquery, sphinx-rtd-theme, pami\n",
            "Successfully installed JsonForm-0.0.2 JsonSir-0.0.2 pami-2023.11.24.1 python-easyconfig-0.1.7 resource-0.2.1 sphinx-rtd-theme-2.0.0 sphinxcontrib-jquery-4.1 validators-0.22.0\n"
          ]
        }
      ],
      "source": [
        "!pip install pami"
      ]
    },
    {
      "cell_type": "markdown",
      "source": [
        "# Step 4: Check the statistics of the transactional database"
      ],
      "metadata": {
        "id": "O9Bb3xSNQi6z"
      }
    },
    {
      "cell_type": "code",
      "source": [
        "from PAMI.extras.dbStats import TransactionalDatabase as alg"
      ],
      "metadata": {
        "id": "AoBG2QlK46Nr"
      },
      "execution_count": null,
      "outputs": []
    },
    {
      "cell_type": "code",
      "source": [
        "obj = alg.TransactionalDatabase('transactionalDatabase.csv')"
      ],
      "metadata": {
        "id": "vZjq_ac55Erd"
      },
      "execution_count": null,
      "outputs": []
    },
    {
      "cell_type": "code",
      "source": [
        "obj.run()"
      ],
      "metadata": {
        "id": "D-SNO2S55NB8"
      },
      "execution_count": null,
      "outputs": []
    },
    {
      "cell_type": "code",
      "source": [
        "obj.printStats()"
      ],
      "metadata": {
        "colab": {
          "base_uri": "https://localhost:8080/"
        },
        "id": "Um_IkPLy5P0G",
        "outputId": "e518c850-4b04-4ad4-ccd2-7d7c3454700e"
      },
      "execution_count": null,
      "outputs": [
        {
          "output_type": "stream",
          "name": "stdout",
          "text": [
            "Database size (total no of transactions) : 24446\n",
            "Number of items : 4192\n",
            "Minimum Transaction Size : 1\n",
            "Average Transaction Size : 22.108115847173362\n",
            "Maximum Transaction Size : 1114\n",
            "Standard Deviation Transaction Size : 44.00843487619885\n",
            "Variance in Transaction Sizes : 1936.821568820451\n",
            "Sparsity : 0.9948412547237625\n"
          ]
        }
      ]
    },
    {
      "cell_type": "code",
      "source": [
        "obj.plotGraphs()"
      ],
      "metadata": {
        "colab": {
          "base_uri": "https://localhost:8080/",
          "height": 927
        },
        "id": "XUlrNxvY5VX3",
        "outputId": "f2a3fd31-bb9b-46c3-9759-b757f4176406"
      },
      "execution_count": null,
      "outputs": [
        {
          "output_type": "display_data",
          "data": {
            "text/plain": [
              "<Figure size 640x480 with 1 Axes>"
            ],
            "image/png": "[encoded data removed]"
          },
          "metadata": {}
        },
        {
          "output_type": "display_data",
          "data": {
            "text/plain": [
              "<Figure size 640x480 with 1 Axes>"
            ],
            "image/png": "[encoded data removed]"
          },
          "metadata": {}
        }
      ]
    },
    {
      "cell_type": "markdown",
      "source": [
        "# Step 5: Find the frequent patterns in the transactional database using the Apriori algorithm"
      ],
      "metadata": {
        "id": "svTA1-wcQpiM"
      }
    },
    {
      "cell_type": "code",
      "source": [
        "from PAMI.frequentPattern.basic import Apriori as alg1"
      ],
      "metadata": {
        "id": "s2LrEBKK51l2"
      },
      "execution_count": null,
      "outputs": []
    },
    {
      "cell_type": "code",
      "source": [
        "obj1= alg1.Apriori('transactionalDatabase.csv',400)"
      ],
      "metadata": {
        "id": "Rl05uABB6MXj"
      },
      "execution_count": null,
      "outputs": []
    },
    {
      "cell_type": "code",
      "source": [
        "obj1.startMine()"
      ],
      "metadata": {
        "colab": {
          "base_uri": "https://localhost:8080/"
        },
        "id": "g0iJBw1G6dbN",
        "outputId": "57bd7da3-fd1f-48c7-a3ff-4cd0470f783d"
      },
      "execution_count": null,
      "outputs": [
        {
          "output_type": "stream",
          "name": "stdout",
          "text": [
            "Frequent patterns were generated successfully using Apriori algorithm \n"
          ]
        }
      ]
    },
    {
      "cell_type": "code",
      "source": [
        "obj1.save('frequentPatterns_400.txt')"
      ],
      "metadata": {
        "id": "MzeLhGH36gv4"
      },
      "execution_count": null,
      "outputs": []
    },
    {
      "cell_type": "markdown",
      "source": [
        "**IMPORTANT:** Open the saved file and check out the patterns."
      ],
      "metadata": {
        "id": "v9ip4IKlQ0KM"
      }
    }
  ]
}